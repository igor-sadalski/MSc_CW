{
 "cells": [
  {
   "cell_type": "code",
   "execution_count": 33,
   "metadata": {},
   "outputs": [
    {
     "name": "stdout",
     "output_type": "stream",
     "text": [
      "[[0.83333333 0.16666667 0.         0.        ]\n",
      " [0.         0.16666667 0.66666667 0.16666667]\n",
      " [0.         0.         0.75       0.25      ]\n",
      " [1.         0.         0.         0.        ]]\n",
      "\n",
      "[[  70.]\n",
      " [  50.]\n",
      " [  -2.]\n",
      " [-100.]]\n"
     ]
    }
   ],
   "source": [
    "import numpy as np\n",
    "\n",
    "prob = np.zeros((4,4))\n",
    "prob[0][0] = 5/6\n",
    "prob[0][1] = 1/6\n",
    "prob[1][1] = 1/6\n",
    "prob[1][2] = 4/6\n",
    "prob[1][3] = 1/6\n",
    "prob[2][2] = 3/4\n",
    "prob[2][3] = 1/4\n",
    "prob[3][0] = 1\n",
    "print(prob)\n",
    "print()\n",
    "#should reward be a matrix?\n",
    "# rew = np.zeros((4,4))\n",
    "# rew[0][0] = 70\n",
    "# rew[0][1] = 70\n",
    "# rew[1][1] = 50\n",
    "# rew[1][2] = 50\n",
    "# rew[1][3] = 50\n",
    "# rew[2][2] = -20\n",
    "# rew[2][3] = -20\n",
    "# rew[3][0] = -100\n",
    "rew = np.zeros((4,1))\n",
    "rew[0] = 70\n",
    "rew[1] = 50\n",
    "rew[2] = -2\n",
    "rew[3] = -100\n",
    "print(rew)"
   ]
  },
  {
   "cell_type": "code",
   "execution_count": 35,
   "metadata": {},
   "outputs": [
    {
     "data": {
      "text/plain": [
       "array([[150.33250208],\n",
       "       [ 51.66251039],\n",
       "       [ -6.30922693],\n",
       "       [ -9.80049875]])"
      ]
     },
     "execution_count": 35,
     "metadata": {},
     "output_type": "execute_result"
    }
   ],
   "source": [
    "gamma = 0.6\n",
    "A = np.linalg.inv(np.eye(4) - gamma * prob)\n",
    "val = np.linalg.inv(np.eye(4) - gamma * prob) @ rew\n",
    "val"
   ]
  },
  {
   "cell_type": "code",
   "execution_count": 68,
   "metadata": {},
   "outputs": [
    {
     "name": "stdout",
     "output_type": "stream",
     "text": [
      "[[ 0.]\n",
      " [-1.]\n",
      " [-1.]\n",
      " [-1.]\n",
      " [-1.]\n",
      " [-1.]\n",
      " [-1.]\n",
      " [-1.]\n",
      " [-1.]\n",
      " [-1.]\n",
      " [-1.]\n",
      " [-1.]\n",
      " [-1.]\n",
      " [-1.]\n",
      " [-1.]\n",
      " [ 0.]]\n",
      "[[1.   0.   0.   0.   0.   0.   0.   0.   0.   0.   0.   0.   0.   0.\n",
      "  0.   0.  ]\n",
      " [0.25 0.25 0.25 0.   0.   0.25 0.   0.   0.   0.   0.   0.   0.   0.\n",
      "  0.   0.  ]\n",
      " [0.   0.25 0.25 0.25 0.   0.   0.25 0.   0.   0.   0.   0.   0.   0.\n",
      "  0.   0.  ]\n",
      " [0.   0.   0.25 0.5  0.   0.   0.   0.25 0.   0.   0.   0.   0.   0.\n",
      "  0.   0.  ]\n",
      " [0.25 0.   0.   0.   0.25 0.25 0.   0.   0.25 0.   0.   0.   0.   0.\n",
      "  0.   0.  ]\n",
      " [0.   0.25 0.   0.   0.25 0.   0.25 0.   0.   0.25 0.   0.   0.   0.\n",
      "  0.   0.  ]\n",
      " [0.   0.   0.25 0.   0.   0.25 0.   0.25 0.   0.   0.25 0.   0.   0.\n",
      "  0.   0.  ]\n",
      " [0.   0.   0.   0.25 0.   0.   0.25 0.25 0.   0.   0.   0.25 0.   0.\n",
      "  0.   0.  ]\n",
      " [0.   0.   0.   0.   0.25 0.   0.   0.   0.25 0.25 0.   0.   0.25 0.\n",
      "  0.   0.  ]\n",
      " [0.   0.   0.   0.   0.   0.25 0.   0.   0.25 0.   0.25 0.   0.   0.25\n",
      "  0.   0.  ]\n",
      " [0.   0.   0.   0.   0.   0.   0.25 0.   0.   0.25 0.   0.25 0.   0.\n",
      "  0.25 0.  ]\n",
      " [0.   0.   0.   0.   0.   0.   0.   0.25 0.   0.   0.25 0.25 0.   0.\n",
      "  0.   0.25]\n",
      " [0.   0.   0.   0.   0.   0.   0.   0.   0.25 0.   0.   0.   0.5  0.25\n",
      "  0.   0.  ]\n",
      " [0.   0.   0.   0.   0.   0.   0.   0.   0.   0.25 0.   0.   0.25 0.25\n",
      "  0.25 0.  ]\n",
      " [0.   0.   0.   0.   0.   0.   0.   0.   0.   0.   0.25 0.   0.   0.25\n",
      "  0.25 0.25]\n",
      " [0.   0.   0.   0.   0.   0.   0.   0.   0.   0.   0.   0.   0.   0.\n",
      "  0.   1.  ]]\n"
     ]
    }
   ],
   "source": [
    "rew = np.ones((16,1))*(-1)\n",
    "rew[0] = 0\n",
    "rew[-1] = 0\n",
    "\n",
    "prob = np.zeros((16,16))\n",
    "prob[0][0] = 1\n",
    "prob[1][1] = 1/4\n",
    "prob[1][0] = 1/4\n",
    "prob[1][2] = 1/4\n",
    "prob[1][5] = 1/4\n",
    "prob[2][2] = 1/4\n",
    "prob[2][1] = 1/4\n",
    "prob[2][3] = 1/4\n",
    "prob[2][6] = 1/4\n",
    "prob[3][3] = 2/4\n",
    "prob[3][2] = 1/4\n",
    "prob[3][7] = 1/4\n",
    "prob[4][4] = 1/4\n",
    "prob[4][0] = 1/4\n",
    "prob[4][5] = 1/4\n",
    "prob[4][8] = 1/4\n",
    "prob[5][1] = 1/4\n",
    "prob[5][6] = 1/4\n",
    "prob[5][9] = 1/4\n",
    "prob[5][4] = 1/4\n",
    "prob[6][5] = 1/4\n",
    "prob[6][2] = 1/4\n",
    "prob[6][7] = 1/4\n",
    "prob[6][10] = 1/4\n",
    "prob[7][3] = 1/4\n",
    "prob[7][7] = 1/4\n",
    "prob[7][11] = 1/4\n",
    "prob[7][6] = 1/4\n",
    "prob[8][4] = 1/4\n",
    "prob[8][9] = 1/4\n",
    "prob[8][12] = 1/4\n",
    "prob[8][8] = 1/4\n",
    "prob[9][5] = 1/4\n",
    "prob[9][10] =1/4 \n",
    "prob[9][13] =1/4 \n",
    "prob[9][8] = 1/4\n",
    "prob[10][6] = 1/4\n",
    "prob[10][11] =1/4 \n",
    "prob[10][14] =1/4 \n",
    "prob[10][9] = 1/4\n",
    "prob[11][7] = 1/4\n",
    "prob[11][11] =1/4 \n",
    "prob[11][15] =1/4 \n",
    "prob[11][10] =1/4 \n",
    "prob[12][8] = 1/4\n",
    "prob[12][13] = 1/4\n",
    "prob[12][12] = 2/4 \n",
    "prob[13][9] =1/4\n",
    "prob[13][14] = 1/4\n",
    "prob[13][13] = 1/4\n",
    "prob[13][12] = 1/4\n",
    "prob[14][10] = 1/4 \n",
    "prob[14][15] = 1/4\n",
    "prob[14][14] = 1/4\n",
    "prob[14][13] = 1/4\n",
    "prob[15][15] = 1\n",
    "\n",
    "print(rew)\n",
    "print(prob)\n",
    "\n"
   ]
  },
  {
   "cell_type": "code",
   "execution_count": 69,
   "metadata": {},
   "outputs": [
    {
     "name": "stdout",
     "output_type": "stream",
     "text": [
      "s0,  0.0\n",
      "s1,  -2.0\n",
      "s2,  -2.4\n",
      "s3,  -2.5\n",
      "s4,  -2.0\n",
      "s5,  -2.3\n",
      "s6,  -2.4\n",
      "s7,  -2.4\n",
      "s8,  -2.4\n",
      "s9,  -2.4\n",
      "s10,  -2.3\n",
      "s11,  -2.0\n",
      "s12,  -2.5\n",
      "s13,  -2.4\n",
      "s14,  -2.0\n",
      "s15,  0.0\n"
     ]
    }
   ],
   "source": [
    "gamma = 0.6\n",
    "val = np.round(np.linalg.inv(np.eye(16) - gamma * prob) @ rew, 1)\n",
    "for ind, i in enumerate(val):\n",
    "    print('s{}, '.format(ind), i[0])"
   ]
  },
  {
   "cell_type": "code",
   "execution_count": 70,
   "metadata": {},
   "outputs": [
    {
     "data": {
      "text/plain": [
       "array([[ 0. , -2. , -2.4, -2.5],\n",
       "       [-2. , -2.3, -2.4, -2.4],\n",
       "       [-2.4, -2.4, -2.3, -2. ],\n",
       "       [-2.5, -2.4, -2. ,  0. ]])"
      ]
     },
     "execution_count": 70,
     "metadata": {},
     "output_type": "execute_result"
    }
   ],
   "source": [
    "#why doesnt this match with the textbook example?\n",
    "#ANALYTICALY OPTIMAL VALUES\n",
    "val.reshape((4,4))"
   ]
  },
  {
   "cell_type": "code",
   "execution_count": 93,
   "metadata": {},
   "outputs": [
    {
     "name": "stdout",
     "output_type": "stream",
     "text": [
      "transition probability | equiprobable policy\n",
      "[[1.  0.  0.  0.  0.  0.  0. ]\n",
      " [0.5 0.  0.5 0.  0.  0.  0. ]\n",
      " [0.  0.5 0.  0.5 0.  0.  0. ]\n",
      " [0.  0.  0.5 0.  0.5 0.  0. ]\n",
      " [0.  0.  0.  0.5 0.  0.5 0. ]\n",
      " [0.  0.  0.  0.  0.5 0.  0.5]\n",
      " [0.  0.  0.  0.  0.  0.  1. ]]\n",
      "reward | equiprobable policy\n",
      "[[  0.   0.   0.   0.   0.   0.   0.]\n",
      " [-10.   0.  -1.   0.   0.   0.   0.]\n",
      " [  0.   1.   0.  -1.   0.   0.   0.]\n",
      " [  0.   0.   1.   0.  -1.   0.   0.]\n",
      " [  0.   0.   0.   1.   0.  -1.   0.]\n",
      " [  0.   0.   0.   0.   1.   0.  -1.]\n",
      " [  0.   0.   0.   0.   0.   0.  10.]]\n"
     ]
    }
   ],
   "source": [
    "#EXAMPLES STAIRS\n",
    "p = np.zeros((7,7))\n",
    "p[0][0] = 1\n",
    "p[6][6] = 1\n",
    "ind = 0\n",
    "for i in range(1,6):\n",
    "    p[i][ind] = 1/2\n",
    "    p[i][ind+2] = 1/2\n",
    "    ind += 1\n",
    "print(\"transition probability | equiprobable policy\")\n",
    "print(p)\n",
    "\n",
    "r = np.zeros((7,7))\n",
    "ind = 0\n",
    "for i in range(1,6):\n",
    "    r[i][ind] = 1\n",
    "    r[i][ind+2] = -1\n",
    "    ind += 1\n",
    "r[1][0] = -10\n",
    "r[6][6] = 10\n",
    "print('reward | equiprobable policy')\n",
    "print(r)"
   ]
  },
  {
   "cell_type": "code",
   "execution_count": 119,
   "metadata": {},
   "outputs": [
    {
     "name": "stdout",
     "output_type": "stream",
     "text": [
      "[0. 0. 0. 0. 0. 0. 0.]\n",
      "[0. 0. 0. 0. 0. 0. 0.]\n",
      "[0. 0. 0. 0. 0. 0. 0.]\n",
      "[0. 0. 0. 0. 0. 0. 0.]\n",
      "[0. 0. 0. 0. 0. 0. 0.]\n"
     ]
    }
   ],
   "source": [
    "#policy evaluation\n",
    "#STAIR WALKING PROBLEM:\n",
    "def policy(action: int, state: int) -> float:\n",
    "    prob = 1/2\n",
    "    assert 0 < prob < 1, \"probability must be in range [0,1]\"\n",
    "    return prob\n",
    "\n",
    "def reward(action, state, next_state = None):\n",
    "    if state == 6:\n",
    "        return 10\n",
    "    elif state == 0:\n",
    "        return -10\n",
    "    else:\n",
    "        return -action\n",
    "    \n",
    "def iterativeInPlaceBellman(V: np.ndarray, curr_state: int,\n",
    "                     gamma: float) -> float:\n",
    "    new_val = 0\n",
    "    for action in [-1, 1]: #only two actions\n",
    "        pi = policy(action, curr_state)\n",
    "        r = reward(action, curr_state)\n",
    "        vn = V[curr_state + action]\n",
    "        new_val +=  pi * (r + gamma * vn)\n",
    "    return new_val\n",
    "\n",
    "gamma = 0.9\n",
    "\n",
    "#policy evalution \n",
    "theta = 0.01 #change treshold to stop iteration\n",
    "n_states = 7\n",
    "V = np.zeros((n_states)) #initial empty array of values at states\n",
    "max_it = 5 #iteration treshold  \n",
    "it = 0 \n",
    "dlt = 0 #change between two consequtive states\n",
    "while dlt < theta and it < max_it:\n",
    "    for curr_state in range(1, n_states-1):\n",
    "        v = V[curr_state]\n",
    "        V[curr_state] = iterativeInPlaceBellman(V, curr_state, gamma) #try to impelement with two vectors\n",
    "        dlt = max(dlt, abs(v - V[curr_state])) #always save maximal change of values\n",
    "    it += 1\n",
    "    print(V)\n"
   ]
  },
  {
   "cell_type": "code",
   "execution_count": 115,
   "metadata": {},
   "outputs": [
    {
     "name": "stdout",
     "output_type": "stream",
     "text": [
      "[0.5  0.25 0.83 0.63 0.89 0.29 0.84]\n"
     ]
    },
    {
     "data": {
      "text/plain": [
       "array([0., 1., 1., 1., 0., 0., 0.])"
      ]
     },
     "execution_count": 115,
     "metadata": {},
     "output_type": "execute_result"
    }
   ],
   "source": [
    "def policyImprovement(V: np.ndarray) -> np.ndarray:\n",
    "    '''0 - go left, 1 - go right'''\n",
    "    out = np.zeros(7)\n",
    "    for i in range(1, len(V)-1):\n",
    "        if V[i-1] > V[i+1]:\n",
    "            out[i] = 0\n",
    "        elif V[i-1] < V[i+1]:\n",
    "            out[i] = 1\n",
    "        else:\n",
    "            out[i] = random_choice = np.random.choice([0, 1])\n",
    "\n",
    "    return out\n",
    "V = np.round(np.random.rand(7), 2) #DELET THIS RANDOM VECTOR FOR TESTING!!!\n",
    "print(V)\n",
    "#TO DO: policy improvement\n",
    "policyImprovement(V)\n"
   ]
  },
  {
   "cell_type": "code",
   "execution_count": 90,
   "metadata": {},
   "outputs": [
    {
     "data": {
      "text/plain": [
       "array([[  0. ,  -0. ,   0. ,   0. ,  -0. ,  -0. ,  -0. ],\n",
       "       [-13.8,   0.9,  -0.9,  -0.6,  -0.4,  -0.3,   5.8],\n",
       "       [ -8.6,   1.9,   0.3,  -1.3,  -0.9,  -0.6,  12.8],\n",
       "       [ -5.2,   1.1,   1.5,   0. ,  -1.5,  -1.1,  22.7],\n",
       "       [ -2.9,   0.6,   0.9,   1.3,  -0.3,  -1.9,  37.6],\n",
       "       [ -1.3,   0.3,   0.4,   0.6,   0.9,  -0.9,  60.9],\n",
       "       [  0. ,   0. ,   0. ,   0. ,   0. ,   0. , 100. ]])"
      ]
     },
     "execution_count": 90,
     "metadata": {},
     "output_type": "execute_result"
    }
   ],
   "source": [
    "#why analytical solutions outputs the vector of solutions....\n",
    "gamma = 0.9\n",
    "val = np.round(np.linalg.inv(np.eye(7) - gamma * p) @ r, 1)\n",
    "val"
   ]
  }
 ],
 "metadata": {
  "kernelspec": {
   "display_name": "Python 3",
   "language": "python",
   "name": "python3"
  },
  "language_info": {
   "codemirror_mode": {
    "name": "ipython",
    "version": 3
   },
   "file_extension": ".py",
   "mimetype": "text/x-python",
   "name": "python",
   "nbconvert_exporter": "python",
   "pygments_lexer": "ipython3",
   "version": "3.10.12"
  }
 },
 "nbformat": 4,
 "nbformat_minor": 2
}
