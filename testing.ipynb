{
 "cells": [
  {
   "cell_type": "code",
   "execution_count": 186,
   "metadata": {},
   "outputs": [
    {
     "data": {
      "text/plain": [
       "array([[[0., 0., 0., 0.],\n",
       "        [0., 0., 0., 0.],\n",
       "        [6., 6., 6., 6.]],\n",
       "\n",
       "       [[0., 0., 0., 0.],\n",
       "        [0., 0., 0., 0.],\n",
       "        [6., 6., 6., 6.]],\n",
       "\n",
       "       [[0., 0., 0., 0.],\n",
       "        [0., 0., 0., 0.],\n",
       "        [6., 6., 6., 6.]]])"
      ]
     },
     "execution_count": 186,
     "metadata": {},
     "output_type": "execute_result"
    }
   ],
   "source": [
    "a = np.zeros((3,3,4))\n",
    "# for ind, val in enumerate([4,5,6]):\n",
    "#     a[:, ind, :] = val \n",
    "for i in [4,5,6]:\n",
    "    a[:, 2, :] = i\n",
    "a"
   ]
  },
  {
   "cell_type": "code",
   "execution_count": 223,
   "metadata": {},
   "outputs": [
    {
     "data": {
      "text/plain": [
       "array([[4.67171428e-310],\n",
       "       [0.00000000e+000],\n",
       "       [2.41907520e-312],\n",
       "       [2.14321575e-312]])"
      ]
     },
     "execution_count": 223,
     "metadata": {},
     "output_type": "execute_result"
    }
   ],
   "source": []
  },
  {
   "cell_type": "code",
   "execution_count": 233,
   "metadata": {},
   "outputs": [
    {
     "data": {
      "text/plain": [
       "array([4.67171428e-310, 4.67171428e-310, 4.67171428e-310, 4.67171428e-310,\n",
       "       4.67171428e-310, 4.67171428e-310, 4.67171428e-310, 4.67171428e-310,\n",
       "       4.67171428e-310, 0.00000000e+000, 0.00000000e+000, 0.00000000e+000,\n",
       "       0.00000000e+000, 0.00000000e+000, 0.00000000e+000, 0.00000000e+000,\n",
       "       0.00000000e+000, 0.00000000e+000, 2.41907520e-312, 2.41907520e-312,\n",
       "       2.41907520e-312, 2.41907520e-312, 2.41907520e-312, 2.41907520e-312,\n",
       "       2.41907520e-312, 2.41907520e-312, 2.41907520e-312, 2.14321575e-312,\n",
       "       2.14321575e-312, 2.14321575e-312, 2.14321575e-312, 2.14321575e-312,\n",
       "       2.14321575e-312, 2.14321575e-312, 2.14321575e-312, 2.14321575e-312])"
      ]
     },
     "execution_count": 233,
     "metadata": {},
     "output_type": "execute_result"
    }
   ],
   "source": [
    "a = np.ndarray((4,4))[0]\n",
    "a.reshape(4,1)\n",
    "(np.repeat([a], 9))\n"
   ]
  },
  {
   "cell_type": "code",
   "execution_count": 33,
   "metadata": {},
   "outputs": [
    {
     "name": "stdout",
     "output_type": "stream",
     "text": [
      "[[0.83333333 0.16666667 0.         0.        ]\n",
      " [0.         0.16666667 0.66666667 0.16666667]\n",
      " [0.         0.         0.75       0.25      ]\n",
      " [1.         0.         0.         0.        ]]\n",
      "\n",
      "[[  70.]\n",
      " [  50.]\n",
      " [  -2.]\n",
      " [-100.]]\n"
     ]
    }
   ],
   "source": [
    "import numpy as np\n",
    "\n",
    "prob = np.zeros((4,4))\n",
    "prob[0][0] = 5/6\n",
    "prob[0][1] = 1/6\n",
    "prob[1][1] = 1/6\n",
    "prob[1][2] = 4/6\n",
    "prob[1][3] = 1/6\n",
    "prob[2][2] = 3/4\n",
    "prob[2][3] = 1/4\n",
    "prob[3][0] = 1\n",
    "print(prob)\n",
    "print()\n",
    "#should reward be a matrix?\n",
    "# rew = np.zeros((4,4))\n",
    "# rew[0][0] = 70\n",
    "# rew[0][1] = 70\n",
    "# rew[1][1] = 50\n",
    "# rew[1][2] = 50\n",
    "# rew[1][3] = 50\n",
    "# rew[2][2] = -20\n",
    "# rew[2][3] = -20\n",
    "# rew[3][0] = -100\n",
    "rew = np.zeros((4,1))\n",
    "rew[0] = 70\n",
    "rew[1] = 50\n",
    "rew[2] = -2\n",
    "rew[3] = -100\n",
    "print(rew)"
   ]
  },
  {
   "cell_type": "code",
   "execution_count": 35,
   "metadata": {},
   "outputs": [
    {
     "data": {
      "text/plain": [
       "array([[150.33250208],\n",
       "       [ 51.66251039],\n",
       "       [ -6.30922693],\n",
       "       [ -9.80049875]])"
      ]
     },
     "execution_count": 35,
     "metadata": {},
     "output_type": "execute_result"
    }
   ],
   "source": [
    "gamma = 0.6\n",
    "A = np.linalg.inv(np.eye(4) - gamma * prob)\n",
    "val = np.linalg.inv(np.eye(4) - gamma * prob) @ rew\n",
    "val"
   ]
  },
  {
   "cell_type": "code",
   "execution_count": 68,
   "metadata": {},
   "outputs": [
    {
     "name": "stdout",
     "output_type": "stream",
     "text": [
      "[[ 0.]\n",
      " [-1.]\n",
      " [-1.]\n",
      " [-1.]\n",
      " [-1.]\n",
      " [-1.]\n",
      " [-1.]\n",
      " [-1.]\n",
      " [-1.]\n",
      " [-1.]\n",
      " [-1.]\n",
      " [-1.]\n",
      " [-1.]\n",
      " [-1.]\n",
      " [-1.]\n",
      " [ 0.]]\n",
      "[[1.   0.   0.   0.   0.   0.   0.   0.   0.   0.   0.   0.   0.   0.\n",
      "  0.   0.  ]\n",
      " [0.25 0.25 0.25 0.   0.   0.25 0.   0.   0.   0.   0.   0.   0.   0.\n",
      "  0.   0.  ]\n",
      " [0.   0.25 0.25 0.25 0.   0.   0.25 0.   0.   0.   0.   0.   0.   0.\n",
      "  0.   0.  ]\n",
      " [0.   0.   0.25 0.5  0.   0.   0.   0.25 0.   0.   0.   0.   0.   0.\n",
      "  0.   0.  ]\n",
      " [0.25 0.   0.   0.   0.25 0.25 0.   0.   0.25 0.   0.   0.   0.   0.\n",
      "  0.   0.  ]\n",
      " [0.   0.25 0.   0.   0.25 0.   0.25 0.   0.   0.25 0.   0.   0.   0.\n",
      "  0.   0.  ]\n",
      " [0.   0.   0.25 0.   0.   0.25 0.   0.25 0.   0.   0.25 0.   0.   0.\n",
      "  0.   0.  ]\n",
      " [0.   0.   0.   0.25 0.   0.   0.25 0.25 0.   0.   0.   0.25 0.   0.\n",
      "  0.   0.  ]\n",
      " [0.   0.   0.   0.   0.25 0.   0.   0.   0.25 0.25 0.   0.   0.25 0.\n",
      "  0.   0.  ]\n",
      " [0.   0.   0.   0.   0.   0.25 0.   0.   0.25 0.   0.25 0.   0.   0.25\n",
      "  0.   0.  ]\n",
      " [0.   0.   0.   0.   0.   0.   0.25 0.   0.   0.25 0.   0.25 0.   0.\n",
      "  0.25 0.  ]\n",
      " [0.   0.   0.   0.   0.   0.   0.   0.25 0.   0.   0.25 0.25 0.   0.\n",
      "  0.   0.25]\n",
      " [0.   0.   0.   0.   0.   0.   0.   0.   0.25 0.   0.   0.   0.5  0.25\n",
      "  0.   0.  ]\n",
      " [0.   0.   0.   0.   0.   0.   0.   0.   0.   0.25 0.   0.   0.25 0.25\n",
      "  0.25 0.  ]\n",
      " [0.   0.   0.   0.   0.   0.   0.   0.   0.   0.   0.25 0.   0.   0.25\n",
      "  0.25 0.25]\n",
      " [0.   0.   0.   0.   0.   0.   0.   0.   0.   0.   0.   0.   0.   0.\n",
      "  0.   1.  ]]\n"
     ]
    }
   ],
   "source": [
    "rew = np.ones((16,1))*(-1)\n",
    "rew[0] = 0\n",
    "rew[-1] = 0\n",
    "\n",
    "prob = np.zeros((16,16))\n",
    "prob[0][0] = 1\n",
    "prob[1][1] = 1/4\n",
    "prob[1][0] = 1/4\n",
    "prob[1][2] = 1/4\n",
    "prob[1][5] = 1/4\n",
    "prob[2][2] = 1/4\n",
    "prob[2][1] = 1/4\n",
    "prob[2][3] = 1/4\n",
    "prob[2][6] = 1/4\n",
    "prob[3][3] = 2/4\n",
    "prob[3][2] = 1/4\n",
    "prob[3][7] = 1/4\n",
    "prob[4][4] = 1/4\n",
    "prob[4][0] = 1/4\n",
    "prob[4][5] = 1/4\n",
    "prob[4][8] = 1/4\n",
    "prob[5][1] = 1/4\n",
    "prob[5][6] = 1/4\n",
    "prob[5][9] = 1/4\n",
    "prob[5][4] = 1/4\n",
    "prob[6][5] = 1/4\n",
    "prob[6][2] = 1/4\n",
    "prob[6][7] = 1/4\n",
    "prob[6][10] = 1/4\n",
    "prob[7][3] = 1/4\n",
    "prob[7][7] = 1/4\n",
    "prob[7][11] = 1/4\n",
    "prob[7][6] = 1/4\n",
    "prob[8][4] = 1/4\n",
    "prob[8][9] = 1/4\n",
    "prob[8][12] = 1/4\n",
    "prob[8][8] = 1/4\n",
    "prob[9][5] = 1/4\n",
    "prob[9][10] =1/4 \n",
    "prob[9][13] =1/4 \n",
    "prob[9][8] = 1/4\n",
    "prob[10][6] = 1/4\n",
    "prob[10][11] =1/4 \n",
    "prob[10][14] =1/4 \n",
    "prob[10][9] = 1/4\n",
    "prob[11][7] = 1/4\n",
    "prob[11][11] =1/4 \n",
    "prob[11][15] =1/4 \n",
    "prob[11][10] =1/4 \n",
    "prob[12][8] = 1/4\n",
    "prob[12][13] = 1/4\n",
    "prob[12][12] = 2/4 \n",
    "prob[13][9] =1/4\n",
    "prob[13][14] = 1/4\n",
    "prob[13][13] = 1/4\n",
    "prob[13][12] = 1/4\n",
    "prob[14][10] = 1/4 \n",
    "prob[14][15] = 1/4\n",
    "prob[14][14] = 1/4\n",
    "prob[14][13] = 1/4\n",
    "prob[15][15] = 1\n",
    "\n",
    "print(rew)\n",
    "print(prob)\n",
    "\n"
   ]
  },
  {
   "cell_type": "code",
   "execution_count": 69,
   "metadata": {},
   "outputs": [
    {
     "name": "stdout",
     "output_type": "stream",
     "text": [
      "s0,  0.0\n",
      "s1,  -2.0\n",
      "s2,  -2.4\n",
      "s3,  -2.5\n",
      "s4,  -2.0\n",
      "s5,  -2.3\n",
      "s6,  -2.4\n",
      "s7,  -2.4\n",
      "s8,  -2.4\n",
      "s9,  -2.4\n",
      "s10,  -2.3\n",
      "s11,  -2.0\n",
      "s12,  -2.5\n",
      "s13,  -2.4\n",
      "s14,  -2.0\n",
      "s15,  0.0\n"
     ]
    }
   ],
   "source": [
    "gamma = 0.6\n",
    "val = np.round(np.linalg.inv(np.eye(16) - gamma * prob) @ rew, 1)\n",
    "for ind, i in enumerate(val):\n",
    "    print('s{}, '.format(ind), i[0])"
   ]
  },
  {
   "cell_type": "code",
   "execution_count": 70,
   "metadata": {},
   "outputs": [
    {
     "data": {
      "text/plain": [
       "array([[ 0. , -2. , -2.4, -2.5],\n",
       "       [-2. , -2.3, -2.4, -2.4],\n",
       "       [-2.4, -2.4, -2.3, -2. ],\n",
       "       [-2.5, -2.4, -2. ,  0. ]])"
      ]
     },
     "execution_count": 70,
     "metadata": {},
     "output_type": "execute_result"
    }
   ],
   "source": [
    "#why doesnt this match with the textbook example?\n",
    "#ANALYTICALY OPTIMAL VALUES\n",
    "val.reshape((4,4))"
   ]
  },
  {
   "cell_type": "code",
   "execution_count": 93,
   "metadata": {},
   "outputs": [
    {
     "name": "stdout",
     "output_type": "stream",
     "text": [
      "transition probability | equiprobable policy\n",
      "[[1.  0.  0.  0.  0.  0.  0. ]\n",
      " [0.5 0.  0.5 0.  0.  0.  0. ]\n",
      " [0.  0.5 0.  0.5 0.  0.  0. ]\n",
      " [0.  0.  0.5 0.  0.5 0.  0. ]\n",
      " [0.  0.  0.  0.5 0.  0.5 0. ]\n",
      " [0.  0.  0.  0.  0.5 0.  0.5]\n",
      " [0.  0.  0.  0.  0.  0.  1. ]]\n",
      "reward | equiprobable policy\n",
      "[[  0.   0.   0.   0.   0.   0.   0.]\n",
      " [-10.   0.  -1.   0.   0.   0.   0.]\n",
      " [  0.   1.   0.  -1.   0.   0.   0.]\n",
      " [  0.   0.   1.   0.  -1.   0.   0.]\n",
      " [  0.   0.   0.   1.   0.  -1.   0.]\n",
      " [  0.   0.   0.   0.   1.   0.  -1.]\n",
      " [  0.   0.   0.   0.   0.   0.  10.]]\n"
     ]
    }
   ],
   "source": [
    "#EXAMPLES STAIRS\n",
    "p = np.zeros((7,7))\n",
    "p[0][0] = 1\n",
    "p[6][6] = 1\n",
    "ind = 0\n",
    "for i in range(1,6):\n",
    "    p[i][ind] = 1/2\n",
    "    p[i][ind+2] = 1/2\n",
    "    ind += 1\n",
    "print(\"transition probability | equiprobable policy\")\n",
    "print(p)\n",
    "\n",
    "r = np.zeros((7,7))\n",
    "ind = 0\n",
    "for i in range(1,6):\n",
    "    r[i][ind] = 1\n",
    "    r[i][ind+2] = -1\n",
    "    ind += 1\n",
    "r[1][0] = -10\n",
    "r[6][6] = 10\n",
    "print('reward | equiprobable policy')\n",
    "print(r)"
   ]
  },
  {
   "cell_type": "code",
   "execution_count": 175,
   "metadata": {},
   "outputs": [
    {
     "name": "stdout",
     "output_type": "stream",
     "text": [
      "1 iteration\n",
      "[ 0.   -5.5  -2.48 -1.11 -0.5   5.27  0.  ]\n",
      "2 iteration\n",
      "[ 0.   -6.61 -3.48 -1.79  1.57  6.21  0.  ]\n",
      "3 iteration\n",
      "[ 0.   -7.06 -3.98 -1.09  2.3   6.54  0.  ]\n",
      "4 iteration\n",
      "[ 0.   -7.29 -3.77 -0.66  2.64  6.69  0.  ]\n",
      "5 iteration\n",
      "[ 0.   -7.2  -3.54 -0.4   2.83  6.77  0.  ]\n",
      "6 iteration\n",
      "[ 0.   -7.09 -3.37 -0.24  2.94  6.82  0.  ]\n",
      "7 iteration\n",
      "[ 0.   -7.02 -3.27 -0.15  3.    6.85  0.  ]\n",
      "8 iteration\n",
      "[ 0.   -6.97 -3.2  -0.09  3.04  6.87  0.  ]\n",
      "9 iteration\n",
      "[ 0.   -6.94 -3.16 -0.05  3.07  6.88  0.  ]\n",
      "10 iteration\n",
      "[ 0.   -6.92 -3.14 -0.03  3.08  6.89  0.  ]\n",
      "11 iteration\n",
      "[ 0.   -6.91 -3.13 -0.02  3.09  6.89  0.  ]\n",
      "12 iteration\n",
      "[ 0.   -6.91 -3.12 -0.01  3.1   6.89  0.  ]\n",
      "13 iteration\n",
      "[ 0.   -6.9  -3.11 -0.01  3.1   6.89  0.  ]\n",
      "14 iteration\n",
      "[ 0.   -6.9  -3.11 -0.    3.1   6.9   0.  ]\n",
      "15 iteration\n",
      "[ 0.   -6.9  -3.11 -0.    3.1   6.9   0.  ]\n",
      "16 iteration\n",
      "[ 0.   -6.9  -3.11 -0.    3.1   6.9   0.  ]\n",
      "17 iteration\n",
      "[ 0.  -6.9 -3.1 -0.   3.1  6.9  0. ]\n"
     ]
    }
   ],
   "source": [
    "#policy evaluation\n",
    "class Stairs:\n",
    "\n",
    "    def __init__(self, gamma):\n",
    "        self.gamma = gamma\n",
    "\n",
    "    def policyEvaluation(self):\n",
    "        '''compute equiprobable policy'''\n",
    "\n",
    "        def policy(action: int, state: int) -> float:\n",
    "            prob = 1/2\n",
    "            assert 0 < prob < 1, \"probability must be in range [0,1]\"\n",
    "            return prob\n",
    "\n",
    "        def reward(action, state):\n",
    "            next_state = state + action\n",
    "            if next_state == 6:\n",
    "                return 10\n",
    "            elif next_state == 0:\n",
    "                return -10\n",
    "            else:\n",
    "                return -action\n",
    "            \n",
    "        def iterativeInPlaceBellman(V: np.ndarray, curr_state: int,\n",
    "                            gamma: float) -> float:\n",
    "            new_val = 0\n",
    "            for action in [-1, 1]: #only two actions\n",
    "                pi = policy(action, curr_state)\n",
    "                r = reward(action, curr_state)\n",
    "                vn = V[curr_state + action]\n",
    "                new_val +=  pi * (r + gamma * vn)\n",
    "            return new_val\n",
    "\n",
    "        theta = 0.001 #change treshold to stop iteration\n",
    "        n_states = 7\n",
    "        V = np.zeros((n_states)) #initial empty array of values at states\n",
    "        max_it = 50 #iteration treshold  \n",
    "        it = 0 \n",
    "        while it < max_it:\n",
    "            dlt = 0 #change between two consequtive states\n",
    "            for curr_state in range(1, n_states-1):\n",
    "                v = V[curr_state]\n",
    "                V[curr_state] = iterativeInPlaceBellman(V, curr_state, self.gamma) #try to impelement with two vectors\n",
    "                dlt = max(dlt, abs(v - V[curr_state])) #always save maximal change of values\n",
    "            it += 1\n",
    "            print('{} iteration'.format(it))\n",
    "            print(np.round(V,2))\n",
    "            if dlt < theta:\n",
    "                break\n",
    "            self.V = V\n",
    "        #optional\n",
    "        # return V\n",
    "\n",
    "\n",
    "\n",
    "    def policyImprovement(self) -> np.ndarray:\n",
    "        '''0 - go left, 1 - go right'''\n",
    "        V = self.V\n",
    "        out = np.zeros(7)\n",
    "        for i in range(1, len(V)-1):\n",
    "            if V[i-1] > V[i+1]:\n",
    "                out[i] = 0\n",
    "            elif V[i-1] < V[i+1]:\n",
    "                out[i] = 1\n",
    "            else:\n",
    "                out[i] = random_choice = np.random.choice([0, 1])\n",
    "        print(out)\n",
    "        # return out\n",
    "\n",
    "    def analyticalSolution(self):\n",
    "        p = np.zeros((7,7))\n",
    "        p[0][0] = 1\n",
    "        p[6][6] = 1\n",
    "        ind = 0\n",
    "        for i in range(1,6):\n",
    "            p[i][ind] = 1/2\n",
    "            p[i][ind+2] = 1/2\n",
    "            ind += 1\n",
    "        print(\"transition probability | equiprobable policy\")\n",
    "        print(p)\n",
    "\n",
    "        r = np.zeros((7,7))\n",
    "        ind = 0\n",
    "        for i in range(1,6):\n",
    "            r[i][ind] = 1\n",
    "            r[i][ind+2] = -1\n",
    "            ind += 1\n",
    "        r[1][0] = -10\n",
    "        r[6][6] = 10\n",
    "        print('reward | equiprobable policy')\n",
    "        print(r)\n",
    "        val = np.round(np.linalg.inv(np.eye(7) - gamma * p) @ r, 1)\n",
    "        print('value state matrix??? \\n', val)\n",
    "        # return val\n",
    "\n",
    "#TO DO: policy improvement\n",
    "a = Stairs(gamma)\n",
    "a.policyEvaluation()"
   ]
  },
  {
   "cell_type": "code",
   "execution_count": 174,
   "metadata": {},
   "outputs": [
    {
     "ename": "ValueError",
     "evalue": "could not convert string to float: 'left'",
     "output_type": "error",
     "traceback": [
      "\u001b[0;31m---------------------------------------------------------------------------\u001b[0m",
      "\u001b[0;31mValueError\u001b[0m                                Traceback (most recent call last)",
      "\u001b[1;32m/home/igorsadalski/Desktop/MSc_CW/testing.ipynb Cell 8\u001b[0m line \u001b[0;36m1\n\u001b[0;32m----> <a href='vscode-notebook-cell:/home/igorsadalski/Desktop/MSc_CW/testing.ipynb#X23sZmlsZQ%3D%3D?line=0'>1</a>\u001b[0m a\u001b[39m.\u001b[39mpolicyImprovement()\n",
      "\u001b[1;32m/home/igorsadalski/Desktop/MSc_CW/testing.ipynb Cell 8\u001b[0m line \u001b[0;36m6\n\u001b[1;32m     <a href='vscode-notebook-cell:/home/igorsadalski/Desktop/MSc_CW/testing.ipynb#X23sZmlsZQ%3D%3D?line=59'>60</a>\u001b[0m \u001b[39mfor\u001b[39;00m i \u001b[39min\u001b[39;00m \u001b[39mrange\u001b[39m(\u001b[39m1\u001b[39m, \u001b[39mlen\u001b[39m(V)\u001b[39m-\u001b[39m\u001b[39m1\u001b[39m):\n\u001b[1;32m     <a href='vscode-notebook-cell:/home/igorsadalski/Desktop/MSc_CW/testing.ipynb#X23sZmlsZQ%3D%3D?line=60'>61</a>\u001b[0m     \u001b[39mif\u001b[39;00m V[i\u001b[39m-\u001b[39m\u001b[39m1\u001b[39m] \u001b[39m>\u001b[39m V[i\u001b[39m+\u001b[39m\u001b[39m1\u001b[39m]:\n\u001b[0;32m---> <a href='vscode-notebook-cell:/home/igorsadalski/Desktop/MSc_CW/testing.ipynb#X23sZmlsZQ%3D%3D?line=61'>62</a>\u001b[0m         out[i] \u001b[39m=\u001b[39m \u001b[39m'\u001b[39m\u001b[39mleft\u001b[39m\u001b[39m'\u001b[39m\n\u001b[1;32m     <a href='vscode-notebook-cell:/home/igorsadalski/Desktop/MSc_CW/testing.ipynb#X23sZmlsZQ%3D%3D?line=62'>63</a>\u001b[0m     \u001b[39melif\u001b[39;00m V[i\u001b[39m-\u001b[39m\u001b[39m1\u001b[39m] \u001b[39m<\u001b[39m V[i\u001b[39m+\u001b[39m\u001b[39m1\u001b[39m]:\n\u001b[1;32m     <a href='vscode-notebook-cell:/home/igorsadalski/Desktop/MSc_CW/testing.ipynb#X23sZmlsZQ%3D%3D?line=63'>64</a>\u001b[0m         out[i] \u001b[39m=\u001b[39m \u001b[39m1\u001b[39m\n",
      "\u001b[0;31mValueError\u001b[0m: could not convert string to float: 'left'"
     ]
    }
   ],
   "source": [
    "a.policyImprovement()\n"
   ]
  },
  {
   "cell_type": "code",
   "execution_count": 172,
   "metadata": {},
   "outputs": [
    {
     "name": "stdout",
     "output_type": "stream",
     "text": [
      "transition probability | equiprobable policy\n",
      "[[1.  0.  0.  0.  0.  0.  0. ]\n",
      " [0.5 0.  0.5 0.  0.  0.  0. ]\n",
      " [0.  0.5 0.  0.5 0.  0.  0. ]\n",
      " [0.  0.  0.5 0.  0.5 0.  0. ]\n",
      " [0.  0.  0.  0.5 0.  0.5 0. ]\n",
      " [0.  0.  0.  0.  0.5 0.  0.5]\n",
      " [0.  0.  0.  0.  0.  0.  1. ]]\n",
      "reward | equiprobable policy\n",
      "[[  0.   0.   0.   0.   0.   0.   0.]\n",
      " [-10.   0.  -1.   0.   0.   0.   0.]\n",
      " [  0.   1.   0.  -1.   0.   0.   0.]\n",
      " [  0.   0.   1.   0.  -1.   0.   0.]\n",
      " [  0.   0.   0.   1.   0.  -1.   0.]\n",
      " [  0.   0.   0.   0.   1.   0.  -1.]\n",
      " [  0.   0.   0.   0.   0.   0.  10.]]\n",
      "value state matrix??? \n",
      " [[  0.   -0.    0.    0.   -0.   -0.   -0. ]\n",
      " [-13.8   0.9  -0.9  -0.6  -0.4  -0.3   5.8]\n",
      " [ -8.6   1.9   0.3  -1.3  -0.9  -0.6  12.8]\n",
      " [ -5.2   1.1   1.5   0.   -1.5  -1.1  22.7]\n",
      " [ -2.9   0.6   0.9   1.3  -0.3  -1.9  37.6]\n",
      " [ -1.3   0.3   0.4   0.6   0.9  -0.9  60.9]\n",
      " [  0.    0.    0.    0.    0.    0.  100. ]]\n"
     ]
    }
   ],
   "source": [
    "a.analyticalSolution()"
   ]
  },
  {
   "cell_type": "code",
   "execution_count": null,
   "metadata": {},
   "outputs": [],
   "source": []
  }
 ],
 "metadata": {
  "kernelspec": {
   "display_name": "Python 3",
   "language": "python",
   "name": "python3"
  },
  "language_info": {
   "codemirror_mode": {
    "name": "ipython",
    "version": 3
   },
   "file_extension": ".py",
   "mimetype": "text/x-python",
   "name": "python",
   "nbconvert_exporter": "python",
   "pygments_lexer": "ipython3",
   "version": "3.10.12"
  }
 },
 "nbformat": 4,
 "nbformat_minor": 2
}
