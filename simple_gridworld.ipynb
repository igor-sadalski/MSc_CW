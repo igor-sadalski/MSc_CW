{
 "cells": [
  {
   "cell_type": "code",
   "execution_count": 2,
   "metadata": {},
   "outputs": [],
   "source": [
    "import numpy as np"
   ]
  },
  {
   "cell_type": "code",
   "execution_count": 6,
   "metadata": {},
   "outputs": [],
   "source": [
    "prob = np.zeros((16,16))\n",
    "#probability transition matrix assuming equiprobable policy\n",
    "prob[0][0] = 1\n",
    "prob[1][1] = 1/4\n",
    "prob[1][0] = 1/4\n",
    "prob[1][2] = 1/4\n",
    "prob[1][5] = 1/4\n",
    "prob[2][2] = 1/4\n",
    "prob[2][1] = 1/4\n",
    "prob[2][3] = 1/4\n",
    "prob[2][6] = 1/4\n",
    "prob[3][3] = 2/4\n",
    "prob[3][2] = 1/4\n",
    "prob[3][7] = 1/4\n",
    "prob[4][4] = 1/4\n",
    "prob[4][0] = 1/4\n",
    "prob[4][5] = 1/4\n",
    "prob[4][8] = 1/4\n",
    "prob[5][1] = 1/4\n",
    "prob[5][6] = 1/4\n",
    "prob[5][9] = 1/4\n",
    "prob[5][4] = 1/4\n",
    "prob[6][5] = 1/4\n",
    "prob[6][2] = 1/4\n",
    "prob[6][7] = 1/4\n",
    "prob[6][10] = 1/4\n",
    "prob[7][3] = 1/4\n",
    "prob[7][7] = 1/4\n",
    "prob[7][11] = 1/4\n",
    "prob[7][6] = 1/4\n",
    "prob[8][4] = 1/4\n",
    "prob[8][9] = 1/4\n",
    "prob[8][12] = 1/4\n",
    "prob[8][8] = 1/4\n",
    "prob[9][5] = 1/4\n",
    "prob[9][10] =1/4 \n",
    "prob[9][13] =1/4 \n",
    "prob[9][8] = 1/4\n",
    "prob[10][6] = 1/4\n",
    "prob[10][11] =1/4 \n",
    "prob[10][14] =1/4 \n",
    "prob[10][9] = 1/4\n",
    "prob[11][7] = 1/4\n",
    "prob[11][11] =1/4 \n",
    "prob[11][15] =1/4 \n",
    "prob[11][10] =1/4 \n",
    "prob[12][8] = 1/4\n",
    "prob[12][13] = 1/4\n",
    "prob[12][12] = 2/4 \n",
    "prob[13][9] =1/4\n",
    "prob[13][14] = 1/4\n",
    "prob[13][13] = 1/4\n",
    "prob[13][12] = 1/4\n",
    "prob[14][10] = 1/4 \n",
    "prob[14][15] = 1/4\n",
    "prob[14][14] = 1/4\n",
    "prob[14][13] = 1/4\n",
    "prob[15][15] = 1\n"
   ]
  },
  {
   "cell_type": "code",
   "execution_count": null,
   "metadata": {},
   "outputs": [],
   "source": []
  }
 ],
 "metadata": {
  "kernelspec": {
   "display_name": "Python 3",
   "language": "python",
   "name": "python3"
  },
  "language_info": {
   "codemirror_mode": {
    "name": "ipython",
    "version": 3
   },
   "file_extension": ".py",
   "mimetype": "text/x-python",
   "name": "python",
   "nbconvert_exporter": "python",
   "pygments_lexer": "ipython3",
   "version": "3.10.12"
  }
 },
 "nbformat": 4,
 "nbformat_minor": 2
}
